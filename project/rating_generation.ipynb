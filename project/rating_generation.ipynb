{
 "cells": [
  {
   "cell_type": "code",
   "execution_count": 1,
   "metadata": {
    "collapsed": false
   },
   "outputs": [
    {
     "name": "stderr",
     "output_type": "stream",
     "text": [
      "Using Theano backend.\n"
     ]
    }
   ],
   "source": [
    "%matplotlib inline\n",
    "import numpy as np\n",
    "import pandas as pd\n",
    "import matplotlib\n",
    "\n",
    "from nltk.tokenize import word_tokenize\n",
    "from sklearn.feature_extraction.text import TfidfVectorizer\n",
    "from sklearn.cross_validation import train_test_split\n",
    "from sklearn.metrics import accuracy_score\n",
    "from sklearn.metrics import confusion_matrix\n",
    "from keras.utils.np_utils import to_categorical\n",
    "from math import floor,ceil\n",
    "\n",
    "from sklearn.svm import LinearSVC\n",
    "\n",
    "from keras.models import Sequential\n",
    "from keras.layers import LSTM, Dense, Embedding"
   ]
  },
  {
   "cell_type": "code",
   "execution_count": 2,
   "metadata": {
    "collapsed": true
   },
   "outputs": [],
   "source": [
    "def rating_to_polarity(rating):\n",
    "    if rating > 3:\n",
    "        return 1\n",
    "    return 0\n",
    "\n",
    "def score_to_rating(score):\n",
    "    rating = score*2+3\n",
    "    return int(round(rating))"
   ]
  },
  {
   "cell_type": "code",
   "execution_count": 3,
   "metadata": {
    "collapsed": false
   },
   "outputs": [],
   "source": [
    "data = pd.read_csv('dataset/Reviews_uniform_25000.csv',header=0,index_col=0,encoding='utf-8')\n",
    "data = data.sample(n=15000,random_state=1)\n",
    "# data = data[data.Score != 3]\n",
    "data = data.dropna(how='any')"
   ]
  },
  {
   "cell_type": "code",
   "execution_count": 4,
   "metadata": {
    "collapsed": false
   },
   "outputs": [],
   "source": [
    "summaries = data.Summary\n",
    "# summaries = data.Text\n",
    "ratings = data.Score"
   ]
  },
  {
   "cell_type": "code",
   "execution_count": 5,
   "metadata": {
    "collapsed": false
   },
   "outputs": [
    {
     "data": {
      "text/plain": [
       "TfidfVectorizer(analyzer=u'word', binary=False, decode_error=u'strict',\n",
       "        dtype=<type 'numpy.int64'>, encoding=u'utf-8', input=u'content',\n",
       "        lowercase=True, max_df=0.8, max_features=None, min_df=1,\n",
       "        ngram_range=(1, 1), norm=u'l2', preprocessor=None, smooth_idf=True,\n",
       "        stop_words=None, strip_accents=None, sublinear_tf=False,\n",
       "        token_pattern=u'(?u)\\\\b\\\\w\\\\w+\\\\b', tokenizer=None, use_idf=True,\n",
       "        vocabulary=None)"
      ]
     },
     "execution_count": 5,
     "metadata": {},
     "output_type": "execute_result"
    }
   ],
   "source": [
    "vectorizer = TfidfVectorizer(max_df=.8)\n",
    "vectorizer.fit(summaries)"
   ]
  },
  {
   "cell_type": "code",
   "execution_count": 6,
   "metadata": {
    "collapsed": false
   },
   "outputs": [],
   "source": [
    "X = vectorizer.transform(summaries).toarray()\n",
    "# y = ((ratings-3)/2.0).values    # for polarity score\n",
    "# y = ratings.map(rating_to_polarity).values      # for polarity classification\n",
    "# y = ratings.values       # for rating classification\n",
    "y = to_categorical(ratings.values)      # for rating classification"
   ]
  },
  {
   "cell_type": "code",
   "execution_count": 7,
   "metadata": {
    "collapsed": false
   },
   "outputs": [],
   "source": [
    "X_train, X_test, y_train, y_test = train_test_split(X,y,test_size=.2)"
   ]
  },
  {
   "cell_type": "code",
   "execution_count": 8,
   "metadata": {
    "collapsed": false
   },
   "outputs": [
    {
     "name": "stdout",
     "output_type": "stream",
     "text": [
      "Epoch 1/10\n",
      "11998/11998 [==============================] - 9s - loss: 1.4664 - acc: 0.4127     \n",
      "Epoch 2/10\n",
      "11998/11998 [==============================] - 7s - loss: 1.1943 - acc: 0.5263     \n",
      "Epoch 3/10\n",
      "11998/11998 [==============================] - 8s - loss: 1.0990 - acc: 0.5738     \n",
      "Epoch 4/10\n",
      "11998/11998 [==============================] - 9s - loss: 1.0372 - acc: 0.6069     \n",
      "Epoch 5/10\n",
      "11998/11998 [==============================] - 8s - loss: 0.9888 - acc: 0.6281     \n",
      "Epoch 6/10\n",
      "11998/11998 [==============================] - 7s - loss: 0.9494 - acc: 0.6419     \n",
      "Epoch 7/10\n",
      "11998/11998 [==============================] - 10s - loss: 0.9171 - acc: 0.6554    \n",
      "Epoch 8/10\n",
      "11998/11998 [==============================] - 11s - loss: 0.8904 - acc: 0.6684    \n",
      "Epoch 9/10\n",
      "11998/11998 [==============================] - 11s - loss: 0.8690 - acc: 0.6729    \n",
      "Epoch 10/10\n",
      "11998/11998 [==============================] - 11s - loss: 0.8505 - acc: 0.6805    \n",
      "2976/3000 [============================>.] - ETA: 0s"
     ]
    },
    {
     "data": {
      "text/plain": [
       "0.44866666666666666"
      ]
     },
     "execution_count": 8,
     "metadata": {},
     "output_type": "execute_result"
    }
   ],
   "source": [
    "model = Sequential()\n",
    "model.add(Dense(128,input_dim=X_train.shape[1]))\n",
    "\n",
    "# model.add(Dense(1,activation='sigmoid'))         # for polarity classification\n",
    "# model.compile(loss='binary_crossentropy',optimizer='rmsprop',metrics=['accuracy'])\n",
    "\n",
    "model.add(Dense(6,activation='softmax'))         # for rating classification\n",
    "model.compile(loss='categorical_crossentropy',optimizer='rmsprop',metrics=['accuracy'])\n",
    "\n",
    "# model.add(Dense(1,activation='tanh'))         # for polarity score\n",
    "# model.compile(loss='mean_squared_error',optimizer='rmsprop',metrics=['mean_squared_error'])\n",
    "\n",
    "model.fit(X_train,y_train,nb_epoch=10,batch_size=32,verbose=1)\n",
    "model.evaluate(X_test,y_test)[1]"
   ]
  },
  {
   "cell_type": "code",
   "execution_count": 9,
   "metadata": {
    "collapsed": false
   },
   "outputs": [
    {
     "data": {
      "text/plain": [
       "<matplotlib.axes._subplots.AxesSubplot at 0x7f8273b68ad0>"
      ]
     },
     "execution_count": 9,
     "metadata": {},
     "output_type": "execute_result"
    },
    {
     "data": {
      "image/png": "[encoded data removed]",
      "text/plain": [
       "<matplotlib.figure.Figure at 0x7f826d6865d0>"
      ]
     },
     "metadata": {},
     "output_type": "display_data"
    }
   ],
   "source": [
    "preds = model.predict(X_test)\n",
    "out = []\n",
    "for i in range(len(preds)):\n",
    "#     out.append([preds[i][0],y_test[i]])     # for polarity score/classification\n",
    "    out.append([preds[i].argmax(),y_test[i].argmax()])    # for rating classification\n",
    "\n",
    "out = pd.DataFrame(out,columns=['PredictedScore','ActualScore'])\n",
    "# out = out.applymap(score_to_rating)\n",
    "out.plot.hist(alpha=0.5)"
   ]
  },
  {
   "cell_type": "code",
   "execution_count": 10,
   "metadata": {
    "collapsed": false
   },
   "outputs": [
    {
     "data": {
      "text/plain": [
       "0.44866666666666666"
      ]
     },
     "execution_count": 10,
     "metadata": {},
     "output_type": "execute_result"
    }
   ],
   "source": [
    "accuracy_score(out.PredictedScore,out.ActualScore)"
   ]
  },
  {
   "cell_type": "code",
   "execution_count": 11,
   "metadata": {
    "collapsed": false
   },
   "outputs": [
    {
     "name": "stdout",
     "output_type": "stream",
     "text": [
      "(14998, 3) (11998, 6371) (3000, 6371)\n"
     ]
    }
   ],
   "source": [
    "print data.shape,X_train.shape,X_test.shape"
   ]
  },
  {
   "cell_type": "code",
   "execution_count": null,
   "metadata": {
    "collapsed": true
   },
   "outputs": [],
   "source": []
  }
 ],
 "metadata": {
  "kernelspec": {
   "display_name": "Python 2",
   "language": "python",
   "name": "python2"
  },
  "language_info": {
   "codemirror_mode": {
    "name": "ipython",
    "version": 2
   },
   "file_extension": ".py",
   "mimetype": "text/x-python",
   "name": "python",
   "nbconvert_exporter": "python",
   "pygments_lexer": "ipython2",
   "version": "2.7.12"
  }
 },
 "nbformat": 4,
 "nbformat_minor": 1
}
