{
 "cells": [
  {
   "cell_type": "code",
   "execution_count": 11,
   "metadata": {
    "collapsed": true
   },
   "outputs": [],
   "source": [
    "%matplotlib inline\n",
    "import matplotlib\n",
    "import string\n",
    "import numpy as np\n",
    "import pandas as pd\n",
    "from gensim import summarization\n",
    "from nltk.tokenize import word_tokenize\n",
    "from nltk.tag import pos_tag\n",
    "from nltk.corpus import sentiwordnet as swn\n",
    "from bs4 import BeautifulSoup\n",
    "from classifiers.LexiconClassifier import LexiconSentimentAnalyzer"
   ]
  },
  {
   "cell_type": "markdown",
   "metadata": {},
   "source": [
    "# Preprocessing data"
   ]
  },
  {
   "cell_type": "code",
   "execution_count": 16,
   "metadata": {
    "collapsed": true
   },
   "outputs": [],
   "source": [
    "PUNCTUATIONS = set(string.punctuation)\n",
    "\n",
    "def remove_html(text):\n",
    "    try:\n",
    "        soup = BeautifulSoup(text,\"html.parser\")\n",
    "    except Exception:\n",
    "        return text\n",
    "    else:\n",
    "        return soup.get_text()\n",
    "\n",
    "def have_common_words(summary,review):\n",
    "    tokens_summ = word_tokenize(summary.lower())\n",
    "    tokens_rev = word_tokenize(review.lower())\n",
    "    if set(tokens_summ).issubset(set(tokens_rev)):\n",
    "        return 1\n",
    "    return 0\n",
    "\n",
    "def remove_punct(text):\n",
    "    return ''.join(ch for ch in text if ch not in PUNCTUATIONS)"
   ]
  },
  {
   "cell_type": "markdown",
   "metadata": {},
   "source": [
    "## Reviews containing summary"
   ]
  },
  {
   "cell_type": "code",
   "execution_count": null,
   "metadata": {
    "collapsed": false
   },
   "outputs": [],
   "source": [
    "\n",
    "data = pd.read_csv('dataset/Reviews.csv',header=0,index_col=0,nrows=10000,usecols=['Id','Summary','Text'],encoding='utf-8')\n",
    "data.dropna(how='any',inplace=True)\n",
    "data.Summary = data.Summary.map(remove_html)\n",
    "data.Text = data.Text.map(remove_html)\n",
    "\n",
    "drop_indices = []\n",
    "for index,row in data.iterrows():\n",
    "    if index%1000 == 0:\n",
    "        print index\n",
    "    if have_common_words(row.Summary,row.Text) == 0:\n",
    "        drop_indices.append(index)\n",
    "\n",
    "data = data.drop(drop_indices)\n",
    "# data.to_csv('dataset/ReviewsExtractedSummaries.csv',encoding='utf-8')\n"
   ]
  },
  {
   "cell_type": "markdown",
   "metadata": {},
   "source": [
    "## Reviews not containing summary "
   ]
  },
  {
   "cell_type": "code",
   "execution_count": null,
   "metadata": {
    "collapsed": false,
    "scrolled": true
   },
   "outputs": [],
   "source": [
    "data = pd.read_csv('dataset/Reviews.csv',header=0,index_col=0,usecols=['Id','Summary','Text'],encoding='utf-8')\n",
    "data1 = pd.read_csv('dataset/ReviewsExtractedSummaries.csv',header=0,index_col=0,encoding='utf-8')\n",
    "data = data.drop(data1.index)\n",
    "\n",
    "data.Summary = data.Summary.map(remove_html)\n",
    "data.Text = data.Text.map(remove_html)\n",
    "\n",
    "data.to_csv('dataset/ReviewsNotExtractedSummaries.csv',encoding='utf-8')"
   ]
  },
  {
   "cell_type": "markdown",
   "metadata": {},
   "source": [
    "# Extractive Summarization "
   ]
  },
  {
   "cell_type": "code",
   "execution_count": 58,
   "metadata": {
    "collapsed": false
   },
   "outputs": [],
   "source": [
    "\n",
    "sentiment_analyzer = LexiconSentimentAnalyzer()\n",
    "\n",
    "def get_keywords(text):\n",
    "    try:\n",
    "        keywords = summarization.keywords(text,ratio=1.0,split=True)\n",
    "    except Exception:\n",
    "        keywords = []\n",
    "    return keywords\n",
    "\n",
    "def get_polarity(word,tag):\n",
    "    pos = 0\n",
    "    neg = 0\n",
    "    if 'JJ' in tag:\n",
    "        synset = swn.senti_synsets(word,'a')\n",
    "    elif 'VB' in tag:\n",
    "        synset = swn.senti_synsets(word,'v')\n",
    "    elif 'RB' in tag:\n",
    "        synset = swn.senti_synsets(word,'r')\n",
    "    elif 'NN' in tag:\n",
    "        synset = swn.senti_synsets(word,'n')\n",
    "    else:\n",
    "        synset = swn.senti_synsets(word)\n",
    "    for x in swn.senti_synsets(word):\n",
    "        if x.pos_score() > pos:\n",
    "            pos = x.pos_score()\n",
    "        if x.neg_score() > neg:\n",
    "            neg = x.neg_score()\n",
    "    if pos >= neg:\n",
    "        return pos\n",
    "    return -1*neg\n",
    "\n",
    "def get_summary(text):\n",
    "    nn = ''\n",
    "    jj = ''\n",
    "    rb = ''\n",
    "    max_nn = 0\n",
    "    max_jj = 0\n",
    "    max_rb = 0\n",
    "    try:\n",
    "        polarity = sentiment_analyzer.analyzeText(text)\n",
    "    except Exception:\n",
    "        polarity = 0\n",
    "    keywords = get_keywords(text)\n",
    "    tuples = [(word,pos_tag([word])[0][1],get_polarity(word,pos_tag([word])[0][1])) for word in keywords]\n",
    "    for tup in tuples:\n",
    "        if 'NN' in tup[1] and max_nn < len(tup[0]):\n",
    "            max_nn = len(tup[0])\n",
    "            nn = tup[0]\n",
    "        if 'JJ' in tup[1] and (np.sign(polarity)==np.sign(tup[2]) or polarity==0) and max_jj < abs(tup[2]):\n",
    "            max_jj = abs(tup[2])\n",
    "            jj = tup[0]\n",
    "        if 'ADV' in tup[1] and (np.sign(polarity)==np.sign(tup[2]) or polarity==0) and max_rb < abs(tup[2]):\n",
    "            max_rb = abs(tup[2])\n",
    "            rb = tup[0]\n",
    "    return ' '.join([rb,jj,nn])\n"
   ]
  },
  {
   "cell_type": "code",
   "execution_count": 153,
   "metadata": {
    "collapsed": false
   },
   "outputs": [],
   "source": [
    "data = pd.read_csv('dataset/ReviewsExtractedSummaries.csv',header=0,index_col=0)\n",
    "# data = pd.read_csv('dataset/ReviewsNotExtractedSummaries.csv',header=0,index_col=0)\n",
    "\n",
    "data = data.sample(n=1000,random_state=np.random.randint(1000))\n",
    "data = data.dropna(how='any')\n",
    "data.Summary = data.Summary.map(str.lower).map(remove_punct)\n",
    "data.Text = data.Text.map(str.lower)\n",
    "\n",
    "data['GeneratedSummary'] = data.Text.map(get_summary)\n",
    "data.dropna(how='any',inplace=True)\n",
    "data.to_csv('output/auto_summ_ext_1.csv',encoding='utf-8')\n",
    "# data.to_csv('output/auto_summ_nonext_1.csv',encoding='utf-8')"
   ]
  },
  {
   "cell_type": "markdown",
   "metadata": {
    "collapsed": true
   },
   "source": [
    "## Generate survey"
   ]
  },
  {
   "cell_type": "code",
   "execution_count": null,
   "metadata": {
    "collapsed": false
   },
   "outputs": [],
   "source": [
    "data = pd.read_csv('output/auto_summ_ext_1.csv',header=0,index_col=0)\n",
    "data1 = pd.read_csv('output/auto_summ_nonext_1.csv',header=0,index_col=0)\n",
    "\n",
    "data['Length'] = data.Summary.map(str.split).map(len)\n",
    "data = data[data.Length < 5].sample(n=10,random_state=np.random.randint(1000))\n",
    "\n",
    "data1['Length'] = data1.Summary.map(str.split).map(len)\n",
    "data1 = data1[data1.Length < 5].sample(n=10,random_state=np.random.randint(1000))\n",
    "\n",
    "data2 = pd.concat([data,data1])\n",
    "data2.to_csv('output/survey.csv')"
   ]
  },
  {
   "cell_type": "markdown",
   "metadata": {},
   "source": [
    "## Survey results"
   ]
  },
  {
   "cell_type": "code",
   "execution_count": 38,
   "metadata": {
    "collapsed": true
   },
   "outputs": [],
   "source": [
    "res = pd.read_csv('output/survey_results.csv',header=0,index_col=0)"
   ]
  },
  {
   "cell_type": "code",
   "execution_count": 21,
   "metadata": {
    "collapsed": false
   },
   "outputs": [],
   "source": [
    "# X = [1,2,3,4,5]\n",
    "# y = [0,0,0,0,0]\n",
    "# y[0] = res.Similarity1.sum()\n",
    "# y[1] = res.Similarity2.sum()\n",
    "# y[2] = res.Similarity3.sum()\n",
    "# y[3] = res.Similarity4.sum()\n",
    "# y[4] = res.Similarity5.sum()\n",
    "# yo = []\n",
    "# for i in range(5):\n",
    "#     yo.append([X[i],y[i]])\n",
    "\n",
    "# matplotlib.pyplot.plot(X,y,'o')\n",
    "\n",
    "X = range(16)\n",
    "y = res.Similarity.values"
   ]
  },
  {
   "cell_type": "code",
   "execution_count": 25,
   "metadata": {
    "collapsed": false
   },
   "outputs": [
    {
     "data": {
      "text/plain": [
       "<Container object of 16 artists>"
      ]
     },
     "execution_count": 25,
     "metadata": {},
     "output_type": "execute_result"
    },
    {
     "data": {
      "image/png": "[encoded data removed]",
      "text/plain": [
       "<matplotlib.figure.Figure at 0x7f8efcf61790>"
      ]
     },
     "metadata": {},
     "output_type": "display_data"
    }
   ],
   "source": [
    "matplotlib.pyplot.bar(X,y)"
   ]
  },
  {
   "cell_type": "code",
   "execution_count": 26,
   "metadata": {
    "collapsed": false
   },
   "outputs": [
    {
     "data": {
      "text/plain": [
       "2.5267857142937502"
      ]
     },
     "execution_count": 26,
     "metadata": {},
     "output_type": "execute_result"
    }
   ],
   "source": [
    "np.mean(y)"
   ]
  },
  {
   "cell_type": "code",
   "execution_count": 40,
   "metadata": {
    "collapsed": false
   },
   "outputs": [
    {
     "data": {
      "text/plain": [
       "<Container object of 16 artists>"
      ]
     },
     "execution_count": 40,
     "metadata": {},
     "output_type": "execute_result"
    },
    {
     "data": {
      "image/png": "[encoded data removed]",
      "text/plain": [
       "<matplotlib.figure.Figure at 0x7f8efc3d76d0>"
      ]
     },
     "metadata": {},
     "output_type": "display_data"
    }
   ],
   "source": [
    "X = range(16)\n",
    "# res.Wins = res.Wins+1\n",
    "y = res.Wins.values\n",
    "matplotlib.pyplot.ylim(0,3)\n",
    "matplotlib.pyplot.bar(X,y)\n"
   ]
  },
  {
   "cell_type": "code",
   "execution_count": null,
   "metadata": {
    "collapsed": true
   },
   "outputs": [],
   "source": []
  }
 ],
 "metadata": {
  "kernelspec": {
   "display_name": "Python 2",
   "language": "python",
   "name": "python2"
  },
  "language_info": {
   "codemirror_mode": {
    "name": "ipython",
    "version": 2
   },
   "file_extension": ".py",
   "mimetype": "text/x-python",
   "name": "python",
   "nbconvert_exporter": "python",
   "pygments_lexer": "ipython2",
   "version": "2.7.12"
  }
 },
 "nbformat": 4,
 "nbformat_minor": 1
}
